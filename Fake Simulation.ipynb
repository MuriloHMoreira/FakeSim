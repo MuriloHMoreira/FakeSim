{
 "cells": [
  {
   "cell_type": "code",
   "execution_count": 4,
   "id": "4bd11f5f",
   "metadata": {
    "ExecuteTime": {
     "end_time": "2024-04-22T20:43:57.230131Z",
     "start_time": "2024-04-22T20:43:57.002937Z"
    }
   },
   "outputs": [
    {
     "name": "stdout",
     "output_type": "stream",
     "text": [
      "| Bibliotecas importadas com sucesso!\n",
      "----------------------------------------\n",
      "| Rodando o caso: \"fake_case_01\"...\n",
      "|--- Pasta criada com sucesso!\n",
      "|--- Back-up criado com sucesso!\n",
      "|--- Malha criada com sucesso!\n"
     ]
    },
    {
     "ename": "NameError",
     "evalue": "name 'T0' is not defined",
     "output_type": "error",
     "traceback": [
      "\u001b[0;31m---------------------------------------------------------------------------\u001b[0m",
      "\u001b[0;31mNameError\u001b[0m                                 Traceback (most recent call last)",
      "Cell \u001b[0;32mIn[4], line 49\u001b[0m\n\u001b[1;32m     46\u001b[0m     T_D_val \u001b[38;5;241m=\u001b[39m T0 \u001b[38;5;241m+\u001b[39m (t \u001b[38;5;241m/\u001b[39m \u001b[38;5;241m3600\u001b[39m) \u001b[38;5;241m*\u001b[39m taxa\n\u001b[1;32m     47\u001b[0m     \u001b[38;5;28;01mreturn\u001b[39;00m T_D_val\n\u001b[0;32m---> 49\u001b[0m T_D \u001b[38;5;241m=\u001b[39m \u001b[43mcurva_de_aq\u001b[49m\u001b[43m(\u001b[49m\u001b[38;5;241;43m0\u001b[39;49m\u001b[43m)\u001b[49m\n\u001b[1;32m     50\u001b[0m \u001b[38;5;28;01mdef\u001b[39;00m \u001b[38;5;21maplicar_Dirichlet\u001b[39m(T_D, flag):\n\u001b[1;32m     51\u001b[0m     \u001b[38;5;28mprint\u001b[39m(\u001b[38;5;124m'\u001b[39m\u001b[38;5;124m|--- Condição de Contorno de Dirichlet aplicada com sucesso!\u001b[39m\u001b[38;5;124m'\u001b[39m)\n",
      "Cell \u001b[0;32mIn[4], line 46\u001b[0m, in \u001b[0;36mcurva_de_aq\u001b[0;34m(t)\u001b[0m\n\u001b[1;32m     44\u001b[0m T_0 \u001b[38;5;241m=\u001b[39m \u001b[38;5;241m25\u001b[39m \u001b[38;5;241m+\u001b[39m \u001b[38;5;241m273.15\u001b[39m\n\u001b[1;32m     45\u001b[0m taxa \u001b[38;5;241m=\u001b[39m \u001b[38;5;241m60\u001b[39m\n\u001b[0;32m---> 46\u001b[0m T_D_val \u001b[38;5;241m=\u001b[39m \u001b[43mT0\u001b[49m \u001b[38;5;241m+\u001b[39m (t \u001b[38;5;241m/\u001b[39m \u001b[38;5;241m3600\u001b[39m) \u001b[38;5;241m*\u001b[39m taxa\n\u001b[1;32m     47\u001b[0m \u001b[38;5;28;01mreturn\u001b[39;00m T_D_val\n",
      "\u001b[0;31mNameError\u001b[0m: name 'T0' is not defined"
     ]
    }
   ],
   "source": [
    "# 1. Importando as bilbiotecas de interesse\n",
    "from fenics import *\n",
    "import numpy as np\n",
    "import os\n",
    "import shutil\n",
    "\n",
    "# 1.1. Importando as propriedades\n",
    "from propriedades_5CAC import *\n",
    "from utils import *\n",
    "print(f'| Bibliotecas importadas com sucesso!')\n",
    "print('----------------------------------------')\n",
    "# 2. Definição do nome do caso\n",
    "case_name = 'fake_case_01'\n",
    "print(f'| Rodando o caso: \"{case_name}\"...')\n",
    "\n",
    "\n",
    "# 3. Criação da pasta de resultados do caso\n",
    "dir_saida, dir_local = criar_pasta(case_name)\n",
    "print('|--- Pasta criada com sucesso!')\n",
    "\n",
    "# 4. Criação dos backups\n",
    "# 4.1. Backup da Simulação\n",
    "shutil.copy(dir_local + '/Fake Simulation.ipynb',\n",
    "            dir_saida + '/backup_' + case_name + '.ipynb')\n",
    "# 4.2. Backup das Propriedades\n",
    "shutil.copy(dir_local + '/propriedades_5CAC.py',\n",
    "            dir_saida + '/backup_propriedades.py')\n",
    "print('|--- Back-up criado com sucesso!')\n",
    "\n",
    "# 5. Criação da malha\n",
    "def criar_malha():\n",
    "    '''\n",
    "\n",
    "    '''\n",
    "    malha = []\n",
    "    print('|--- Malha criada com sucesso!')\n",
    "    return malha\n",
    "\n",
    "malha = criar_malha()\n",
    "\n",
    "\n",
    "# 6. Definição das condições de contorno\n",
    "def curva_de_aq(t):\n",
    "    T_0 = 25 + 273.15\n",
    "    taxa = 60\n",
    "    T_D_val = T0 + (t / 3600) * taxa\n",
    "    return T_D_val\n",
    "    \n",
    "T_D = curva_de_aq(0)\n",
    "def aplicar_Dirichlet(T_D, flag):\n",
    "    print('|--- Condição de Contorno de Dirichlet aplicada com sucesso!')\n",
    "    \n",
    "# Vai aparecer diretamente no problema matemático\n",
    "# def aplicar_Neumann(q_N, flag):\n",
    "#     print('|--- Condição de Contorno de Neumann aplicada com sucesso!')\n",
    "    \n",
    "    "
   ]
  },
  {
   "cell_type": "code",
   "execution_count": null,
   "id": "823e0389",
   "metadata": {},
   "outputs": [],
   "source": []
  }
 ],
 "metadata": {
  "kernelspec": {
   "display_name": "fenics",
   "language": "python",
   "name": "fenics"
  },
  "language_info": {
   "codemirror_mode": {
    "name": "ipython",
    "version": 3
   },
   "file_extension": ".py",
   "mimetype": "text/x-python",
   "name": "python",
   "nbconvert_exporter": "python",
   "pygments_lexer": "ipython3",
   "version": "3.11.3"
  },
  "toc": {
   "base_numbering": 1,
   "nav_menu": {},
   "number_sections": true,
   "sideBar": true,
   "skip_h1_title": false,
   "title_cell": "Table of Contents",
   "title_sidebar": "Contents",
   "toc_cell": false,
   "toc_position": {},
   "toc_section_display": true,
   "toc_window_display": false
  }
 },
 "nbformat": 4,
 "nbformat_minor": 5
}
